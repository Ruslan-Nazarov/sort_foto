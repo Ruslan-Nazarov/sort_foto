{
 "metadata": {
  "language_info": {
   "codemirror_mode": {
    "name": "ipython",
    "version": 3
   },
   "file_extension": ".py",
   "mimetype": "text/x-python",
   "name": "python",
   "nbconvert_exporter": "python",
   "pygments_lexer": "ipython3",
   "version": "3.8.7"
  },
  "orig_nbformat": 2,
  "kernelspec": {
   "name": "python3",
   "display_name": "Python 3.8.7 64-bit (windows store)",
   "metadata": {
    "interpreter": {
     "hash": "787893dbb8b24bd60d4538072a51a33256c0c2a3fd175b8108f9c6e28928832c"
    }
   }
  }
 },
 "nbformat": 4,
 "nbformat_minor": 2,
 "cells": [
  {
   "cell_type": "code",
   "execution_count": 1,
   "metadata": {},
   "outputs": [],
   "source": [
    "\"\"\"\n",
    "Сначала мы должны установить специальную библиотеку Lobe, которая позволяет работать с моделью. Сделаем это не через Терминал, а прямо здесь. Для этого установим библиотеку sys.\n",
    "Дополнительно Вам надо установить: \n",
    "Python 3.8 отсюда https://www.microsoft.com/en-us/p/python-38/9mssztt1n39l. Обратите внимание, что TensorFlow не работает с версией Python 3.9. Поэтому у Вас должна быть версия Python не старше 3.8.;\n",
    "Git отсюда https://git-scm.com/download/win\n",
    "\"\"\"\n",
    "\n",
    "import sys"
   ]
  },
  {
   "cell_type": "code",
   "execution_count": 2,
   "metadata": {},
   "outputs": [
    {
     "output_type": "stream",
     "name": "stdout",
     "text": [
      "Requirement already satisfied: pip in c:\\users\\1\\appdata\\local\\packages\\pythonsoftwarefoundation.python.3.8_qbz5n2kfra8p0\\localcache\\local-packages\\python38\\site-packages (21.0.1)\n"
     ]
    }
   ],
   "source": [
    "!{sys.executable} -m pip install --upgrade pip "
   ]
  },
  {
   "cell_type": "code",
   "execution_count": 3,
   "metadata": {},
   "outputs": [
    {
     "output_type": "stream",
     "name": "stderr",
     "text": [
      "  Running command git clone -q https://github.com/lobe/lobe-python 'C:\\Users\\1\\AppData\\Local\\Temp\\pip-req-build-93cr2zg8'\n",
      "Collecting git+https://github.com/lobe/lobe-python\n",
      "  Cloning https://github.com/lobe/lobe-python to c:\\users\\1\\appdata\\local\\temp\\pip-req-build-93cr2zg8\n",
      "Collecting tflite_runtime@ https://github.com/google-coral/pycoral/releases/download/release-frogfish/tflite_runtime-2.5.0-cp38-cp38-win_amd64.whl\n",
      "  Downloading https://github.com/google-coral/pycoral/releases/download/release-frogfish/tflite_runtime-2.5.0-cp38-cp38-win_amd64.whl (746 kB)\n",
      "Requirement already satisfied: pillow in c:\\users\\1\\appdata\\local\\packages\\pythonsoftwarefoundation.python.3.8_qbz5n2kfra8p0\\localcache\\local-packages\\python38\\site-packages (from lobe==0.3.0) (8.1.0)\n",
      "Requirement already satisfied: requests in c:\\users\\1\\appdata\\local\\packages\\pythonsoftwarefoundation.python.3.8_qbz5n2kfra8p0\\localcache\\local-packages\\python38\\site-packages (from lobe==0.3.0) (2.25.1)\n",
      "Requirement already satisfied: numpy==1.19.3 in c:\\users\\1\\appdata\\local\\packages\\pythonsoftwarefoundation.python.3.8_qbz5n2kfra8p0\\localcache\\local-packages\\python38\\site-packages (from lobe==0.3.0) (1.19.3)\n",
      "Requirement already satisfied: tensorflow==2.4 in c:\\users\\1\\appdata\\local\\packages\\pythonsoftwarefoundation.python.3.8_qbz5n2kfra8p0\\localcache\\local-packages\\python38\\site-packages (from lobe==0.3.0) (2.4.0)\n",
      "Requirement already satisfied: onnxruntime==1.6.0 in c:\\users\\1\\appdata\\local\\packages\\pythonsoftwarefoundation.python.3.8_qbz5n2kfra8p0\\localcache\\local-packages\\python38\\site-packages (from lobe==0.3.0) (1.6.0)\n",
      "Requirement already satisfied: protobuf in c:\\users\\1\\appdata\\local\\packages\\pythonsoftwarefoundation.python.3.8_qbz5n2kfra8p0\\localcache\\local-packages\\python38\\site-packages (from onnxruntime==1.6.0->lobe==0.3.0) (3.14.0)\n",
      "Requirement already satisfied: keras-preprocessing~=1.1.2 in c:\\users\\1\\appdata\\local\\packages\\pythonsoftwarefoundation.python.3.8_qbz5n2kfra8p0\\localcache\\local-packages\\python38\\site-packages (from tensorflow==2.4->lobe==0.3.0) (1.1.2)\n",
      "Requirement already satisfied: opt-einsum~=3.3.0 in c:\\users\\1\\appdata\\local\\packages\\pythonsoftwarefoundation.python.3.8_qbz5n2kfra8p0\\localcache\\local-packages\\python38\\site-packages (from tensorflow==2.4->lobe==0.3.0) (3.3.0)\n",
      "Requirement already satisfied: termcolor~=1.1.0 in c:\\users\\1\\appdata\\local\\packages\\pythonsoftwarefoundation.python.3.8_qbz5n2kfra8p0\\localcache\\local-packages\\python38\\site-packages (from tensorflow==2.4->lobe==0.3.0) (1.1.0)\n",
      "Requirement already satisfied: typing-extensions~=3.7.4 in c:\\users\\1\\appdata\\local\\packages\\pythonsoftwarefoundation.python.3.8_qbz5n2kfra8p0\\localcache\\local-packages\\python38\\site-packages (from tensorflow==2.4->lobe==0.3.0) (3.7.4.3)\n",
      "Requirement already satisfied: tensorboard~=2.4 in c:\\users\\1\\appdata\\local\\packages\\pythonsoftwarefoundation.python.3.8_qbz5n2kfra8p0\\localcache\\local-packages\\python38\\site-packages (from tensorflow==2.4->lobe==0.3.0) (2.4.1)\n",
      "Requirement already satisfied: wheel~=0.35 in c:\\users\\1\\appdata\\local\\packages\\pythonsoftwarefoundation.python.3.8_qbz5n2kfra8p0\\localcache\\local-packages\\python38\\site-packages (from tensorflow==2.4->lobe==0.3.0) (0.36.2)\n",
      "Requirement already satisfied: tensorflow-estimator<2.5.0,>=2.4.0rc0 in c:\\users\\1\\appdata\\local\\packages\\pythonsoftwarefoundation.python.3.8_qbz5n2kfra8p0\\localcache\\local-packages\\python38\\site-packages (from tensorflow==2.4->lobe==0.3.0) (2.4.0)\n",
      "Requirement already satisfied: six~=1.15.0 in c:\\users\\1\\appdata\\local\\packages\\pythonsoftwarefoundation.python.3.8_qbz5n2kfra8p0\\localcache\\local-packages\\python38\\site-packages (from tensorflow==2.4->lobe==0.3.0) (1.15.0)\n",
      "Requirement already satisfied: gast==0.3.3 in c:\\users\\1\\appdata\\local\\packages\\pythonsoftwarefoundation.python.3.8_qbz5n2kfra8p0\\localcache\\local-packages\\python38\\site-packages (from tensorflow==2.4->lobe==0.3.0) (0.3.3)\n",
      "Requirement already satisfied: flatbuffers~=1.12.0 in c:\\users\\1\\appdata\\local\\packages\\pythonsoftwarefoundation.python.3.8_qbz5n2kfra8p0\\localcache\\local-packages\\python38\\site-packages (from tensorflow==2.4->lobe==0.3.0) (1.12)\n",
      "Requirement already satisfied: google-pasta~=0.2 in c:\\users\\1\\appdata\\local\\packages\\pythonsoftwarefoundation.python.3.8_qbz5n2kfra8p0\\localcache\\local-packages\\python38\\site-packages (from tensorflow==2.4->lobe==0.3.0) (0.2.0)\n",
      "Requirement already satisfied: grpcio~=1.32.0 in c:\\users\\1\\appdata\\local\\packages\\pythonsoftwarefoundation.python.3.8_qbz5n2kfra8p0\\localcache\\local-packages\\python38\\site-packages (from tensorflow==2.4->lobe==0.3.0) (1.32.0)\n",
      "Requirement already satisfied: astunparse~=1.6.3 in c:\\users\\1\\appdata\\local\\packages\\pythonsoftwarefoundation.python.3.8_qbz5n2kfra8p0\\localcache\\local-packages\\python38\\site-packages (from tensorflow==2.4->lobe==0.3.0) (1.6.3)\n",
      "Requirement already satisfied: absl-py~=0.10 in c:\\users\\1\\appdata\\local\\packages\\pythonsoftwarefoundation.python.3.8_qbz5n2kfra8p0\\localcache\\local-packages\\python38\\site-packages (from tensorflow==2.4->lobe==0.3.0) (0.11.0)\n",
      "Requirement already satisfied: wrapt~=1.12.1 in c:\\users\\1\\appdata\\local\\packages\\pythonsoftwarefoundation.python.3.8_qbz5n2kfra8p0\\localcache\\local-packages\\python38\\site-packages (from tensorflow==2.4->lobe==0.3.0) (1.12.1)\n",
      "Requirement already satisfied: h5py~=2.10.0 in c:\\users\\1\\appdata\\local\\packages\\pythonsoftwarefoundation.python.3.8_qbz5n2kfra8p0\\localcache\\local-packages\\python38\\site-packages (from tensorflow==2.4->lobe==0.3.0) (2.10.0)\n",
      "Requirement already satisfied: google-auth<2,>=1.6.3 in c:\\users\\1\\appdata\\local\\packages\\pythonsoftwarefoundation.python.3.8_qbz5n2kfra8p0\\localcache\\local-packages\\python38\\site-packages (from tensorboard~=2.4->tensorflow==2.4->lobe==0.3.0) (1.27.0)\n",
      "Requirement already satisfied: tensorboard-plugin-wit>=1.6.0 in c:\\users\\1\\appdata\\local\\packages\\pythonsoftwarefoundation.python.3.8_qbz5n2kfra8p0\\localcache\\local-packages\\python38\\site-packages (from tensorboard~=2.4->tensorflow==2.4->lobe==0.3.0) (1.8.0)\n",
      "Requirement already satisfied: markdown>=2.6.8 in c:\\users\\1\\appdata\\local\\packages\\pythonsoftwarefoundation.python.3.8_qbz5n2kfra8p0\\localcache\\local-packages\\python38\\site-packages (from tensorboard~=2.4->tensorflow==2.4->lobe==0.3.0) (3.3.3)\n",
      "Requirement already satisfied: werkzeug>=0.11.15 in c:\\users\\1\\appdata\\local\\packages\\pythonsoftwarefoundation.python.3.8_qbz5n2kfra8p0\\localcache\\local-packages\\python38\\site-packages (from tensorboard~=2.4->tensorflow==2.4->lobe==0.3.0) (1.0.1)\n",
      "Requirement already satisfied: google-auth-oauthlib<0.5,>=0.4.1 in c:\\users\\1\\appdata\\local\\packages\\pythonsoftwarefoundation.python.3.8_qbz5n2kfra8p0\\localcache\\local-packages\\python38\\site-packages (from tensorboard~=2.4->tensorflow==2.4->lobe==0.3.0) (0.4.2)\n",
      "Requirement already satisfied: setuptools>=41.0.0 in c:\\program files\\windowsapps\\pythonsoftwarefoundation.python.3.8_3.8.2032.0_x64__qbz5n2kfra8p0\\lib\\site-packages (from tensorboard~=2.4->tensorflow==2.4->lobe==0.3.0) (49.2.1)\n",
      "Requirement already satisfied: pyasn1-modules>=0.2.1 in c:\\users\\1\\appdata\\local\\packages\\pythonsoftwarefoundation.python.3.8_qbz5n2kfra8p0\\localcache\\local-packages\\python38\\site-packages (from google-auth<2,>=1.6.3->tensorboard~=2.4->tensorflow==2.4->lobe==0.3.0) (0.2.8)\n",
      "Requirement already satisfied: cachetools<5.0,>=2.0.0 in c:\\users\\1\\appdata\\local\\packages\\pythonsoftwarefoundation.python.3.8_qbz5n2kfra8p0\\localcache\\local-packages\\python38\\site-packages (from google-auth<2,>=1.6.3->tensorboard~=2.4->tensorflow==2.4->lobe==0.3.0) (4.2.1)\n",
      "Requirement already satisfied: rsa<5,>=3.1.4 in c:\\users\\1\\appdata\\local\\packages\\pythonsoftwarefoundation.python.3.8_qbz5n2kfra8p0\\localcache\\local-packages\\python38\\site-packages (from google-auth<2,>=1.6.3->tensorboard~=2.4->tensorflow==2.4->lobe==0.3.0) (4.7.1)\n",
      "Requirement already satisfied: requests-oauthlib>=0.7.0 in c:\\users\\1\\appdata\\local\\packages\\pythonsoftwarefoundation.python.3.8_qbz5n2kfra8p0\\localcache\\local-packages\\python38\\site-packages (from google-auth-oauthlib<0.5,>=0.4.1->tensorboard~=2.4->tensorflow==2.4->lobe==0.3.0) (1.3.0)\n",
      "Requirement already satisfied: pyasn1<0.5.0,>=0.4.6 in c:\\users\\1\\appdata\\local\\packages\\pythonsoftwarefoundation.python.3.8_qbz5n2kfra8p0\\localcache\\local-packages\\python38\\site-packages (from pyasn1-modules>=0.2.1->google-auth<2,>=1.6.3->tensorboard~=2.4->tensorflow==2.4->lobe==0.3.0) (0.4.8)\n",
      "Requirement already satisfied: urllib3<1.27,>=1.21.1 in c:\\users\\1\\appdata\\local\\packages\\pythonsoftwarefoundation.python.3.8_qbz5n2kfra8p0\\localcache\\local-packages\\python38\\site-packages (from requests->lobe==0.3.0) (1.26.3)\n",
      "Requirement already satisfied: chardet<5,>=3.0.2 in c:\\users\\1\\appdata\\local\\packages\\pythonsoftwarefoundation.python.3.8_qbz5n2kfra8p0\\localcache\\local-packages\\python38\\site-packages (from requests->lobe==0.3.0) (4.0.0)\n",
      "Requirement already satisfied: idna<3,>=2.5 in c:\\users\\1\\appdata\\local\\packages\\pythonsoftwarefoundation.python.3.8_qbz5n2kfra8p0\\localcache\\local-packages\\python38\\site-packages (from requests->lobe==0.3.0) (2.10)\n",
      "Requirement already satisfied: certifi>=2017.4.17 in c:\\users\\1\\appdata\\local\\packages\\pythonsoftwarefoundation.python.3.8_qbz5n2kfra8p0\\localcache\\local-packages\\python38\\site-packages (from requests->lobe==0.3.0) (2020.12.5)\n",
      "Requirement already satisfied: oauthlib>=3.0.0 in c:\\users\\1\\appdata\\local\\packages\\pythonsoftwarefoundation.python.3.8_qbz5n2kfra8p0\\localcache\\local-packages\\python38\\site-packages (from requests-oauthlib>=0.7.0->google-auth-oauthlib<0.5,>=0.4.1->tensorboard~=2.4->tensorflow==2.4->lobe==0.3.0) (3.1.0)\n"
     ]
    }
   ],
   "source": [
    "\"\"\"\n",
    "Внимание! Если в ходе установки у Вас появится сообщение, что библиотека установлена в папку, путь к которой не прописан в PATH, то вам необходимо (для Windows 10):\n",
    "1) открыть в проводнике Этот компьютер;\n",
    "2) в любой свободной области кликнуть правой кнопкой мыши и выбрать Свойства, Вы перейдете в раздел Система;\n",
    "3) в левой колонке выбрать Дополнительные параметры системы, затем Переменные среды;\n",
    "4) в верхнем окне выбрать Path;\n",
    "5) откроется окно Изменить переменную среды, нажимаем Создать;\n",
    "6) скопируйте путь папки, указанной в отчете о загрузке с Git, и вставьте в окно из п. 5;\n",
    "7) сохраните и закройте все окна\n",
    "\"\"\"\n",
    "\n",
    "!{sys.executable} -m pip install git+https://github.com/lobe/lobe-python "
   ]
  },
  {
   "cell_type": "code",
   "execution_count": 4,
   "metadata": {},
   "outputs": [],
   "source": [
    "\"\"\"\n",
    "Установим еще несколько нужных библиотек.\n",
    "\"\"\"\n",
    "\n",
    "import os\n",
    "from pathlib import Path #для работы с папками на компьютере\n",
    "from lobe import ImageModel #для работы с моделью\n",
    "from PIL import Image #для работы с фотографиями\n",
    "import shutil #для перемещения фотографий по папкам"
   ]
  },
  {
   "cell_type": "code",
   "execution_count": 5,
   "metadata": {},
   "outputs": [],
   "source": [
    "\"\"\"\n",
    "Загружаем модель, которую получили в Lobe. Путь к модели зависит от того, где вы сохранили папку. Используйте два слэша - это важно.\n",
    "Обратите внимание, что все пути к папкам здесь и ниже - это только примеры. Для Вашего конкретного случая папки будут отличаться. Это зависит от того, в какой папке Вы сохраните модель, фотографии, которые надо разобрать, а также в какие папки Вы захотите поместить разобранные фотографии. \n",
    "Внимание! Модель может много весить и поэтому долго загружаться, не переживайте.\n",
    "\"\"\"\n",
    "\n",
    "model = ImageModel.load(\"D:\\\\Data Science\\\\Модель\\\\Собаки TensorFlow 3\\\\Собаки TensorFlow\")"
   ]
  },
  {
   "cell_type": "code",
   "execution_count": 6,
   "metadata": {},
   "outputs": [],
   "source": [
    "\"\"\"\n",
    "Здесь мы получаем путь к каждой фотографии, которую хотим проверить. Дополнительно проверяем на соответствие требованиям к расширению. Будем использовать только файлы с раширением jpg или JPG. Сначала получим абсолютный путь к каждому файлу в папке, которую хотим разобрать.\n",
    "\"\"\"\n",
    "examples = os.listdir(\"D:\\\\Data Science\\\\Data\\\\example\") #получаем название каждого файла с расширением\n",
    "samples = [] #создаем пустой список, куда будем помещать абсолютный путь к каждому файлу \n",
    "for i in examples: #запускаем цикл\n",
    "    path = \"D:\\\\Data Science\\\\Data\\\\example\\\\\" #путь к папке, которую хотит разобрать\n",
    "    foto = path +i #соединяем путь к папке, которую хотим разобрать, и название файла с расширением\n",
    "    samples.append(foto) #включаем в список абсолютный путь для каждого файла в папке, которую хотим разобрать\n",
    "    "
   ]
  },
  {
   "cell_type": "code",
   "execution_count": 7,
   "metadata": {},
   "outputs": [],
   "source": [
    "\"\"\"\n",
    "Сейчас мы проверим расширение у каждого файла. Файлы с расширением jpg или JPG включим в отдельный список. Сделаем список с файлами, расширения которых нам не подходят, для контроля.\n",
    "\"\"\"\n",
    "\n",
    "samples_good = [] #создаем пустой список, куда будем складывать файлы с правильными расширениями\n",
    "samples_bad = [] #создаем пустой список, куда будем складывать файлы с неправильным расширением\n",
    "ext = ['.jpg', '.JPG'] #создаем список правильных расширений\n",
    "for ix in samples: #запускаем цикл, то есть перебираем каждое значение в списке\n",
    "    filename, file_ext = os.path.splitext(ix) #получаем отдельно название файла и отдельно расширение\n",
    "    if file_ext in ext: #если расширение в списки правильных, то\n",
    "        samples_good.append(ix) #сохраняем его в списке с правильными расширениями\n",
    "    else: samples_bad.append(ix) #если нет, то сохраняем в списке с неправильными расширениями\n",
    "\n"
   ]
  },
  {
   "cell_type": "code",
   "execution_count": 8,
   "metadata": {},
   "outputs": [],
   "source": [
    "\"\"\"\n",
    "Сейчас мы передадим в модель каждую фотографию. В зависимости от того, какое значение предскажет модель, переместим фото по папкам. Обратите внимание, Вам необходимо создать отдельную папку для каждой метки, которую Вы сделали при обучении модели. Например, если я при обучении разбирал фотографии по меткам \"Леха\" и \"Дралл\", то должен создать две отдельных папки. В моем случае это leha и dral. \n",
    "\n",
    "Вы передаете в модель неотсортированные фотографии. Модель для каждой фотографии предсказывает метку - \"Леха\" или \"Дралл\". Фотографии, которым модель дала метку \"Леха\", переносятся в папку leha. Фотографии, которым модель дала метку \"Дралл\", переносятся в папку dral. Исходная папка останется пустой.\n",
    "\"\"\"\n",
    "\n",
    "for ixd in samples_good: #запускаем цикл\n",
    "    imgnew = Image.open(ixd) #открываем фотографию\n",
    "    result = model.predict(imgnew) #передаем фотографию в модель \n",
    "    if result.prediction == \"Леха\": #если модель предскажет значение Леха, то\n",
    "        shutil.move(ixd, \"D:\\\\Data Science\\\\Data\\\\done//leha//\") #перемещаем фотографию в папку leha\n",
    "    elif result.prediction == \"Дралл\": #если модель предскажет значение Дралл, то\n",
    "        shutil.move(ixd, \"D:\\\\Data Science\\\\Data\\\\done//dral//\") #перемещаем фотографию в папку drall\n",
    "    elif result.prediction == \"Металл\": #если модель предскажет значение Металл, то\n",
    "        shutil.move(ixd, \"D:\\\\Data Science\\\\Data\\\\done//metal//\") #перемещаем фотографию в папку metal"
   ]
  },
  {
   "cell_type": "code",
   "execution_count": null,
   "metadata": {},
   "outputs": [],
   "source": []
  }
 ]
}